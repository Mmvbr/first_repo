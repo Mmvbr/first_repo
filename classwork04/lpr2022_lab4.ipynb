{
 "cells": [
  {
   "cell_type": "markdown",
   "metadata": {},
   "source": [
    "### Аннотация\n",
    "\n",
    "Ноутбук составлен на основе материалов [[1]](https://github.com/SciProgCentre/python-scientific-book/blob/master/pages/StudentEdition/05.ipynb), [[2]](https://github.com/SciProgCentre/python-scientific-book/blob/master/pages/StudentEdition/07.ipynb)"
   ]
  },
  {
   "cell_type": "markdown",
   "metadata": {},
   "source": [
    "# NumPy\n"
   ]
  },
  {
   "cell_type": "markdown",
   "metadata": {},
   "source": [
    "## Создание Numpy массивов"
   ]
  },
  {
   "cell_type": "code",
   "execution_count": 9,
   "metadata": {},
   "outputs": [
    {
     "name": "stdout",
     "output_type": "stream",
     "text": [
      "[1. 2. 3.]\n",
      "\n",
      "[-1. -1. -1. -1. -1. -1. -1. -1. -1. -1.]\n",
      "\n",
      "[[0. 0. 0. 0. 0.]\n",
      " [0. 0. 0. 0. 0.]\n",
      " [0. 0. 0. 0. 0.]]\n",
      "\n",
      "[[[1. 1.]\n",
      "  [1. 1.]]\n",
      "\n",
      " [[1. 1.]\n",
      "  [1. 1.]]]\n",
      "\n",
      "[[1. 0. 0. 0. 0.]\n",
      " [0. 1. 0. 0. 0.]\n",
      " [0. 0. 1. 0. 0.]\n",
      " [0. 0. 0. 1. 0.]\n",
      " [0. 0. 0. 0. 1.]]\n",
      "(3, 5)\n"
     ]
    }
   ],
   "source": [
    "import numpy as np\n",
    "\n",
    "a = np.array([1, 2, 3], float) # Однмемерный массив из списка \n",
    "b = np.repeat(-1. ,10) # Массив полученные повоторением исходного объекта\n",
    "c = np.zeros((3, 5)) # Матрица из нулей размера 3х5\n",
    "d = np.ones((2, 2, 2)) # Трехмерный массив из единиц\n",
    "e = np.eye(5) # Единичная матрица\n",
    "print(a, b, c, d, e, sep='\\n\\n')\n",
    "print(c.shape) # Возвращает размерность массива, для двумерного это количество строк и столбцов"
   ]
  },
  {
   "cell_type": "markdown",
   "metadata": {},
   "source": [
    "## Арифметические операции с массивами  и векторизация\n",
    "\n",
    "Полезной особенностью numpy-массивов является так называемая _векторизация_ --- возможность делать быстрые поэлементные операции с массивами без использования цикла `for`."
   ]
  },
  {
   "cell_type": "code",
   "execution_count": 2,
   "metadata": {},
   "outputs": [
    {
     "name": "stdout",
     "output_type": "stream",
     "text": [
      "[6. 4. 9.]\n",
      "[-4.  0. -3.]\n",
      "[ 5.  4. 18.]\n",
      "[5. 1. 2.]\n",
      "[1. 0. 3.]\n",
      "[  5.   4. 216.]\n",
      "[1.         1.41421356 1.73205081]\n",
      "6.0\n",
      "60.0\n",
      "27.0\n",
      "[False False False]\n",
      "[1.         2.         0.33333333]\n"
     ]
    }
   ],
   "source": [
    "a = np.array([1, 2, 3], float)\n",
    "b = np.array([5, 2, 6], float)\n",
    "print(a + b)\n",
    "print(a - b)\n",
    "print(a * b)\n",
    "print(b / a)\n",
    "print(a % b)\n",
    "print(b ** a)\n",
    "print(np.sqrt(a))\n",
    "print(np.sum(a))\n",
    "print(np.prod(b))\n",
    "print(a.dot(b)) # Скалярное произведение\n",
    "print(a > b)\n",
    "print(np.where(a != 2, 1 / a, a))"
   ]
  },
  {
   "cell_type": "markdown",
   "metadata": {},
   "source": [
    "## Линейная алгебра\n",
    "\n",
    "NumPy также предоставляет набор встроенных функций и методов для работы с линейной алгеброй. Это всё можно найти в под-модуле `linalg`."
   ]
  },
  {
   "cell_type": "code",
   "execution_count": 3,
   "metadata": {},
   "outputs": [
    {
     "name": "stdout",
     "output_type": "stream",
     "text": [
      "-48.00000000000003\n",
      "[ 8.85591316  1.9391628  -2.79507597]\n",
      "[[-0.3663565  -0.54736745  0.25928158]\n",
      " [-0.88949768  0.5640176  -0.88091903]\n",
      " [-0.27308752  0.61828231  0.39592263]]\n"
     ]
    }
   ],
   "source": [
    "a = np.array([[4, 2, 0], [9, 3, 7], [1, 2, 1]], float)\n",
    "b = a.T # Транспонированый массив\n",
    "print(np.linalg.det(a)) # Ищем детерминант \n",
    "vals, vecs = np.linalg.eig(a)\n",
    "print(vals)\n",
    "print(vecs)"
   ]
  },
  {
   "cell_type": "markdown",
   "metadata": {},
   "source": [
    "## Операции с индексами \n",
    "Оперативная память компьютера линейна, и поэтому даже многомерные массивы, на самом деле являются некоторыми линейными структурами, над которыми существуют система индексов, говорящих как именно читать этот линейный блок. Проведение операций над индексами в большистве случаев эффективно и поэтому операции смены размерности массива или транспонирования выполняются быстро"
   ]
  },
  {
   "cell_type": "code",
   "execution_count": 4,
   "metadata": {},
   "outputs": [
    {
     "name": "stdout",
     "output_type": "stream",
     "text": [
      "[[1 3]\n",
      " [2 4]]\n"
     ]
    }
   ],
   "source": [
    "a = np.asarray([[1, 2], [3, 4]])\n",
    "b = a.T # Транспонированый массив\n",
    "print(b)"
   ]
  },
  {
   "cell_type": "code",
   "execution_count": 5,
   "metadata": {},
   "outputs": [
    {
     "name": "stdout",
     "output_type": "stream",
     "text": [
      "[[10  3]\n",
      " [ 2  4]]\n"
     ]
    }
   ],
   "source": [
    "b[0, 0] = 10\n",
    "print(b)"
   ]
  },
  {
   "cell_type": "code",
   "execution_count": 6,
   "metadata": {},
   "outputs": [
    {
     "name": "stdout",
     "output_type": "stream",
     "text": [
      "[[10  2]\n",
      " [ 3  4]]\n"
     ]
    }
   ],
   "source": [
    "print(a)"
   ]
  },
  {
   "cell_type": "markdown",
   "metadata": {},
   "source": [
    "Как мы видим при изменени переменной `b` изменилась переменная `a`. Это произошло потому, что обе эти переменные использубют один и тот же кусок памяти, но по разному "
   ]
  },
  {
   "cell_type": "markdown",
   "metadata": {},
   "source": [
    "## Срезы\n",
    "\n",
    "В numpy реализован удобный способ работы с элементами матрицы. Он позволяет пройтись по элементам с определенным шагом и в определенном направлении.\n",
    "\n",
    "Пусть у нас есть двумерная матрица. Стоит запомнить следущий синтаксис:\n",
    "- `[:]` -- получить все элементы матрицы\n",
    "- `[:, 0]` -- получить первый столбец матрицы\n",
    "- `[2, :]` -- получить третью строку матрицы\n",
    "- `[-2, :]` -- получить вторую строку матрицы с конца\n",
    "- `[::3, 0]` -- получить каждый третий элемент из первой строки\n",
    "- `[1:-1:3, 0]`-- получить каждый третий элемент первой строки начиная со второго и, возможно, закнчивая предпоследним"
   ]
  },
  {
   "cell_type": "code",
   "execution_count": 7,
   "metadata": {},
   "outputs": [
    {
     "name": "stdout",
     "output_type": "stream",
     "text": [
      "[  0   4   8  12  16  20  24  28  32  36  40  44  48  52  56  60  64  68\n",
      "  72  76  80  84  88  92  96 100 104 108 112 116 120 124 128 132 136 140\n",
      " 144 148 152 156 160 164 168 172 176 180 184 188 192 196 200 204 208 212\n",
      " 216 220 224 228 232 236 240 244 248 252 256 260 264 268 272 276 280 284\n",
      " 288 292 296 300 304 308 312 316 320]\n",
      "\n",
      "(81,)\n",
      "\n",
      "\n",
      "\n",
      "[[  0   4   8  12  16  20  24  28  32]\n",
      " [ 36  40  44  48  52  56  60  64  68]\n",
      " [ 72  76  80  84  88  92  96 100 104]\n",
      " [108 112 116 120 124 128 132 136 140]\n",
      " [144 148 152 156 160 164 168 172 176]\n",
      " [180 184 188 192 196 200 204 208 212]\n",
      " [216 220 224 228 232 236 240 244 248]\n",
      " [252 256 260 264 268 272 276 280 284]\n",
      " [288 292 296 300 304 308 312 316 320]]\n",
      "\n",
      "(9, 9)\n",
      "\n",
      "\n",
      "\n",
      "[[  0   8  16  24  32]\n",
      " [ 72  80  88  96 104]\n",
      " [144 152 160 168 176]\n",
      " [216 224 232 240 248]\n",
      " [288 296 304 312 320]] \n",
      "\n",
      "[[0.  2.4 4.8]\n",
      " [2.4 4.8 7.2]\n",
      " [4.8 7.2 9.6]] \n",
      "\n"
     ]
    }
   ],
   "source": [
    "array = np.array([i for i in range(0, 81*4, 4)])\n",
    "print(array, array.shape, \"\\n\", sep=\"\\n\\n\")\n",
    "\n",
    "matrix = array.reshape(9, 9)\n",
    "print(matrix, matrix.shape, \"\\n\", sep=\"\\n\\n\")\n",
    "\n",
    "print(matrix[::2, ::2], \"\\n\")\n",
    "\n",
    "print((matrix[::3, ::3] + matrix[::3, ::3].T) / 50, \"\\n\")"
   ]
  },
  {
   "cell_type": "markdown",
   "metadata": {},
   "source": [
    "## Чтение даных\n",
    "\n",
    "Numpy также предоставляет функционал для чтения данных, который бывает весьма полезен"
   ]
  },
  {
   "cell_type": "code",
   "execution_count": 8,
   "metadata": {},
   "outputs": [
    {
     "name": "stderr",
     "output_type": "stream",
     "text": [
      "\"cat\" �� ���� ����७��� ��� ���譥�\n",
      "��������, �ᯮ��塞�� �ணࠬ��� ��� ������ 䠩���.\n"
     ]
    }
   ],
   "source": [
    "!cat data/data.txt"
   ]
  },
  {
   "cell_type": "markdown",
   "metadata": {},
   "source": [
    "## Задание по numpy\n",
    "\n",
    "1. Создайте вектор с элементами от 1 до 99 включительно\n",
    "2. Выведите все значения с шагом 3\n",
    "3. Посчитайте сумму троек элементов из предыдущего пункта\n",
    "4. Сделайте `reshape` для массива из предыдущего пункта в матрицу размера 11х3\n",
    "5. Транспонируйте матрицу из предыдущего пункта\n",
    "6. Произведите векторное умножение матрицы из предыдущего пункта на вектор размерности 11 из элементов от -9 до -1\n",
    "7. Запишите срез матрицы из пункта `5` в файл `matrix.dat`. Срез должен включать в себя 1, 5, 9 столбцы и 0 и 2 строки. **Подсказка**: требуется вписать элементы матрицы, которая состоит из пересечения соответсвующих столбцов и строк.\n",
    "8. Посчитайте детерминант матрицы, которая содержит в себе строки 2, 5, 8 из матрицы пункта `4`.\n",
    "9. `*`Создайте два вектора длины 10. Элементы первого вектора -- первые 10 простых чисел со знаком минус, второго вектора -- первые 10 чисел последовательности Фибоначчи. Посчитайте скалярное произведение двух векторов. **Указание**: для получения простых чисел и чисел из последовательности Фибоначчи реализуйте функции `prime_number` и `fibonacci_number`.\n",
    "10. `*`Реализуйте функцию вычисления матричной экспоненты\n",
    "$e^X = \\sum\\limits_{i = 0}^{n} \\frac{1}{k!} X^k$, $X^k$ -- матрица $X$ в степени $k$, $X^0 = I$\n",
    "\n",
    "Замечания:\n",
    "- Пункты `*` реализуются по завршению блока заданий на `matplotlib`.\n",
    "- Задания делать внутри следующей ячейки ноутбука. Если работаете в Pycharm, то сохраняйте в файлы `numpy_i.py`, где `i` указывает пункт задания.\n",
    "- Задания, или готовый ноутбук, сохранять в директории (папке) `classwork04`. **Никак иначе диеректорию не называть!**"
   ]
  },
  {
   "cell_type": "code",
   "execution_count": 10,
   "metadata": {},
   "outputs": [
    {
     "data": {
      "text/plain": [
       "'1.21.6'"
      ]
     },
     "execution_count": 10,
     "metadata": {},
     "output_type": "execute_result"
    }
   ],
   "source": [
    "np.__version__"
   ]
  },
  {
   "cell_type": "code",
   "execution_count": null,
   "metadata": {},
   "outputs": [
    {
     "name": "stdout",
     "output_type": "stream",
     "text": [
      "[ 1  4  7 10 13 16 19 22 25 28 31 34 37 40 43 46 49 52 55 58 61 64 67 70\n",
      " 73 76 79 82 85 88 91 94 97]\n",
      "[  6  15  24  33  42  51  60  69  78  87  96 105 114 123 132 141 150 159\n",
      " 168 177 186 195 204 213 222 231 240 249 258 267 276 285 294] \n",
      "\n",
      "[[  6  33  60  87 114 141 168 195 222 249 276]\n",
      " [ 15  42  69  96 123 150 177 204 231 258 285]\n",
      " [ 24  51  78 105 132 159 186 213 240 267 294]] \n",
      "\n",
      "[-3234 -3630 -4026] \n",
      "\n",
      "[[ 33  42  51]\n",
      " [114 123 132]\n",
      " [195 204 213]] \n",
      "\n",
      "0\n"
     ]
    }
   ],
   "source": [
    "arr = np.array([i for i in range(1, 100 )])\n",
    "print(arr[::3])\n",
    "\n",
    "brr=arr[::3]+arr[1::3]+arr[2::3]\n",
    "print(brr,'\\n')\n",
    "brr=brr.reshape(11,3).T\n",
    "print(brr,'\\n')\n",
    "crr=np.array([i for i in range(-9,2)])\n",
    "print(np.matmul(brr,crr),'\\n')\n",
    "brr=brr.T\n",
    "\n",
    "print(brr[1:8:3,:],'\\n')\n",
    "print(round(np.linalg.det((brr[1:8:3,:]))))\n"
   ]
  },
  {
   "cell_type": "code",
   "execution_count": 13,
   "metadata": {},
   "outputs": [
    {
     "name": "stdout",
     "output_type": "stream",
     "text": [
      "-2 -3 -5 -7 -11 -13 -17 -19 -23 -29\n",
      "0 1 1 2 3 5 8 13 21 34\n",
      "-1972\n"
     ]
    }
   ],
   "source": [
    "def pr(n):\n",
    "    list=[]\n",
    "    a=1\n",
    "    while len(list)<n:\n",
    "        a+=1\n",
    "        flag=True\n",
    "        for i in range(2,a):\n",
    "            \n",
    "            if a%i==0:\n",
    "                flag=False \n",
    "                continue\n",
    "        if flag: list.append(-a)\n",
    "    return np.array(list)\n",
    "print(*pr(10))  \n",
    "def fib(n):\n",
    "    list=[0,1]\n",
    "    while len(list)<n:\n",
    "        list.append(list[-1]+list[-2])\n",
    "    return list\n",
    "print(*fib(10))\n",
    "print(pr(10).dot(fib(10)))    "
   ]
  },
  {
   "cell_type": "code",
   "execution_count": 29,
   "metadata": {},
   "outputs": [
    {
     "data": {
      "text/plain": [
       "array([[ 51.89526846,  74.65271975],\n",
       "       [111.95271292, 163.15845668]])"
      ]
     },
     "execution_count": 29,
     "metadata": {},
     "output_type": "execute_result"
    }
   ],
   "source": [
    "from math import factorial\n",
    "\n",
    "qq=[[1,2],[3,4]]\n",
    "def ex(x,n):\n",
    "    sm=np.zeros((2,2))\n",
    "    for i in range(n):\n",
    "        sm+= np.linalg.matrix_power(x,i)/factorial(i) \n",
    "    return sm\n",
    "ex(qq,20)"
   ]
  },
  {
   "cell_type": "code",
   "execution_count": 16,
   "metadata": {},
   "outputs": [
    {
     "name": "stdout",
     "output_type": "stream",
     "text": [
      "[[ 0  1  4]\n",
      " [ 9 16 25]\n",
      " [36 49 64]]\n"
     ]
    }
   ],
   "source": [
    "a=np.array(range(9))\n",
    "a=a.reshape(3,3)\n",
    "print(a**2)"
   ]
  },
  {
   "cell_type": "markdown",
   "metadata": {},
   "source": [
    "# Matplotlib"
   ]
  },
  {
   "cell_type": "markdown",
   "metadata": {},
   "source": [
    "# Построение графиков\n",
    "\n",
    "Для построения графиков чаще всего используется `matplotlib.pyplot`. Больше информации можно найти по этим ссылкам:\n",
    "* [Научная графика в python](https://nbviewer.jupyter.org/github/whitehorn/Scientific_graphics_in_python/tree/master/) --- уроки по `matplotlib` на русском языке.\n",
    "* [Галерея  `matplotlib`](https://matplotlib.org/3.1.1/gallery/index.html) --- галерея примеров на официальном сайте `matplotlib`, выбираете нужный вам пример и смотрите как он сделан.\n",
    "\n",
    "Построить график достаточно просто:"
   ]
  },
  {
   "cell_type": "code",
   "execution_count": null,
   "metadata": {},
   "outputs": [
    {
     "data": {
      "text/plain": [
       "[<matplotlib.lines.Line2D at 0x7fbc9c3053d0>]"
      ]
     },
     "execution_count": 9,
     "metadata": {},
     "output_type": "execute_result"
    },
    {
     "data": {
      "image/png": "[encoded data removed]",
      "text/plain": [
       "<Figure size 432x288 with 1 Axes>"
      ]
     },
     "metadata": {
      "needs_background": "light"
     },
     "output_type": "display_data"
    }
   ],
   "source": [
    "import numpy as np\n",
    "import matplotlib.pyplot as plt\n",
    "%matplotlib inline\n",
    "\n",
    "x = np.linspace(-1, 1, 100)  # Создаем массив из ста точек на промежутке (-1; 1)\n",
    "y = x**3\n",
    "plt.plot(x,y)"
   ]
  },
  {
   "cell_type": "markdown",
   "metadata": {},
   "source": [
    "Как вы можете заметить построеный график хорош всем, кромо того обстоятельства что он нарушает все правила оформления графиков для лабораторных работ. Постораемся оформить его. \n",
    "Следующая иллюстрация поможет нам узнать как называются элементы изображения:\n",
    "\n",
    "\n",
    "![](https://matplotlib.org/_images/anatomy.png)\n",
    "\n",
    "\n",
    "Используя поиск по сайту [matplotlib.org](https://matplotlib.org/3.1.1/index.html) можно подробно узнать как настроить тот или иной элемент изображения. А мы приведем краткое описание полезных функции:"
   ]
  },
  {
   "cell_type": "code",
   "execution_count": null,
   "metadata": {},
   "outputs": [
    {
     "name": "stderr",
     "output_type": "stream",
     "text": [
      "/tmp/ipykernel_6290/594084838.py:34: MatplotlibDeprecationWarning: The 'b' parameter of grid() has been renamed 'visible' since Matplotlib 3.5; support for the old name will be dropped two minor releases later.\n",
      "  plt.grid(b=True, which='major', axis='both', alpha=1)\n",
      "/tmp/ipykernel_6290/594084838.py:35: MatplotlibDeprecationWarning: The 'b' parameter of grid() has been renamed 'visible' since Matplotlib 3.5; support for the old name will be dropped two minor releases later.\n",
      "  plt.grid(b=True, which='minor', axis='both', alpha=0.5)\n"
     ]
    },
    {
     "data": {
      "image/png": "[encoded data removed]",
      "text/plain": [
       "<Figure size 504x504 with 1 Axes>"
      ]
     },
     "metadata": {
      "needs_background": "light"
     },
     "output_type": "display_data"
    }
   ],
   "source": [
    "import numpy as np\n",
    "import matplotlib.pyplot as plt\n",
    "import matplotlib as mpl\n",
    "mpl.rcParams['font.size'] = 16 # Управление стилем, в данном случаем - размером шрифта \n",
    " # Создаем фигуру\n",
    "plt.figure(figsize=(7,7))\n",
    "\n",
    "# Подписываем оси и график\n",
    "plt.title(r\"Это название  графика  $y = x^3$ - да, можно использовать LaTeX:\")\n",
    "plt.ylabel(\"Это ось Y\")\n",
    "plt.xlabel(r\"Это ось X, $F(x) = \\int f(x) dx + C$\")\n",
    "\n",
    "\n",
    "\n",
    "# Добавляем данные\n",
    "x = np.linspace(-1,1,100)\n",
    "y = x**3\n",
    "plt.plot(x,y, label=\"Синия линия\")\n",
    "\n",
    "# Еще данные\n",
    "x2 = x[::10]\n",
    "y2 = np.sin(x2)\n",
    "plt.plot(x2,y2, 'r^', label='Красные треугольники')\n",
    "# 'r^' - задает стиль линии - красные (red) треугольники (^), подробнее в документации\n",
    "\n",
    "# Данные с ошибками\n",
    "mu = np.sin(x2)\n",
    "sigma = np.abs(mu)**0.5\n",
    "y2 = np.random.normal(mu, sigma)\n",
    "# Можно рисовать ошибки\n",
    "plt.errorbar(x2,y2, yerr=sigma, xerr=0.1, fmt='.', label='Кресты') \n",
    "\n",
    "# Активируем сетку\n",
    "plt.grid(b=True, which='major', axis='both', alpha=1)\n",
    "plt.grid(b=True, which='minor', axis='both', alpha=0.5)\n",
    "\n",
    "# Активируем легенду графика\n",
    "plt.legend()\n",
    "# Внимание, запускаете вашу программу как сценарий, то что бы показать график\n",
    "# Используйте эту команду\n",
    "# plt.show()\n",
    "# Сохраняем изображение в текущую директорию\n",
    "plt.savefig('example.png')"
   ]
  },
  {
   "cell_type": "code",
   "execution_count": null,
   "metadata": {},
   "outputs": [
    {
     "data": {
      "text/plain": [
       "[<matplotlib.lines.Line2D at 0x7fbc9c049730>]"
      ]
     },
     "execution_count": 11,
     "metadata": {},
     "output_type": "execute_result"
    },
    {
     "data": {
      "image/png": "[encoded data removed]",
      "text/plain": [
       "<Figure size 432x288 with 1 Axes>"
      ]
     },
     "metadata": {
      "needs_background": "light"
     },
     "output_type": "display_data"
    }
   ],
   "source": [
    "# Логарифмический масштаб по оси x (аналогично для y)\n",
    "plt.xscale('log')\n",
    "plt.yscale('log')\n",
    "# Сетка\n",
    "plt.grid(True)\n",
    "# Добавляем данные\n",
    "x = np.linspace(0,100,100)\n",
    "y = x**3\n",
    "plt.plot(x,y,\"k--\", label=\"Синия линия\") # \"k--\" --- черная прерывистая линия"
   ]
  },
  {
   "cell_type": "markdown",
   "metadata": {},
   "source": [
    "## Общие замечания\n",
    "\n",
    "1. Не советуется сильно изменять стандартный размер фигуры, который равен `[6.4, 4.8]`. Тогда не потребуется подстраивать раземер шрифта.\n",
    "2. Попробуйте воспользоваться функцией `plt.tight_layout()`. Она *уберет* лишнее пустое пространство вокруг графика.\n",
    "3. Для передачи *сырых* строк стоит пользоваться `r\"my favorite $\\LaTeX$\"` $\\rightarrow$ my favorite $\\LaTeX$\n",
    "4. Для сохранения графиков можно воспользоваться функцией `plt.savefig()`. По умолчанию возможно сохранять в `.pdf/.jpg/.png` и так далее."
   ]
  },
  {
   "cell_type": "markdown",
   "metadata": {},
   "source": [
    "## Задание matplotlib\n",
    "\n",
    "1. Нарисуйте точками график $\\sin(x) x^{-2}$ для x со значениями от 0 до 100 с шагом 10\n",
    "2. Добавьте сетку и описание осей для предыдущего графика\n",
    "2. Нарисуйте непрерывной прямой график $e^{-x \\sin(x)}$ для x со значениями от 10 до 100\n",
    "3. Добавьте сетку и описание осей для предыдущего графика\n",
    "4. Добавьте мелкую сетку для предыдущего графика (опция `plt.minorticks_on()`\n",
    "5. Нарисуйте точками график $e^{x \\sin(x)}$ для x со значениями от 10 до 100\n",
    "6. \n",
    "7. Сделайте логарифмический масштаб по оси ординат. Отразите этот факт в подписи к оси\n",
    "8. Добавьте легенду точкам и подписи к графику\n",
    "\n",
    "Замечания:\n",
    "- Если указано сделать подпись осей, то нужно добавить подписи к двум осям графика\n",
    "- Если указано ссделать подписи к графику, то нужно добавить оглавление графика, легенду для точек и кривых, подписи к осям\n",
    "- Задания делать внутри следующей ячейки ноутбука. Если работаете в Pycharm, то сохраняйте в файлы `matplotlib_i.py`, где `i` указывает пункт задания.\n",
    "- Задания, или готовый ноутбук, сохранять в директории (папке) `classwork04`. **Никак иначе диеректорию не называть!**"
   ]
  },
  {
   "cell_type": "code",
   "execution_count": 33,
   "metadata": {},
   "outputs": [
    {
     "name": "stderr",
     "output_type": "stream",
     "text": [
      "C:\\Users\\Acer\\AppData\\Roaming\\Python\\Python37\\site-packages\\ipykernel_launcher.py:9: RuntimeWarning: invalid value encountered in true_divide\n",
      "  if __name__ == \"__main__\":\n"
     ]
    },
    {
     "data": {
      "text/plain": [
       "[<matplotlib.lines.Line2D at 0x16b7ee84f48>]"
      ]
     },
     "execution_count": 33,
     "metadata": {},
     "output_type": "execute_result"
    },
    {
     "data": {
      "image/png": "[encoded data removed]",
      "text/plain": [
       "<Figure size 640x480 with 1 Axes>"
      ]
     },
     "metadata": {},
     "output_type": "display_data"
    }
   ],
   "source": [
    "import numpy as np\n",
    "import matplotlib.pyplot as plt\n",
    "%matplotlib inline\n",
    "\n",
    "plt.ylabel(\"Это ось Y\")\n",
    "plt.xlabel(r\"Это ось X\")\n",
    "plt.grid(True)\n",
    "x = np.linspace(0, 100, 10)\n",
    "y=np.sin(x)/x**2\n",
    "plt.plot(x,y)"
   ]
  },
  {
   "cell_type": "code",
   "execution_count": 44,
   "metadata": {},
   "outputs": [
    {
     "data": {
      "text/plain": [
       "array([4.33856726e-03, 4.30382582e-03, 4.26937560e-03, ...,\n",
       "       8.74664725e-23, 9.44759776e-23, 1.02051554e-22])"
      ]
     },
     "execution_count": 44,
     "metadata": {},
     "output_type": "execute_result"
    },
    {
     "data": {
      "image/png": "[encoded data removed]",
      "text/plain": [
       "<Figure size 640x480 with 1 Axes>"
      ]
     },
     "metadata": {},
     "output_type": "display_data"
    }
   ],
   "source": [
    "from cmath import exp\n",
    "import numpy as np\n",
    "import matplotlib.pyplot as plt\n",
    "%matplotlib inline\n",
    "\n",
    "plt.ylabel(\"Это ось Y\")\n",
    "plt.xlabel(\"Это ось X\")\n",
    "plt.grid(True)\n",
    "plt.minorticks_on\n",
    "x = np.linspace(10, 100, 100000)\n",
    "y=pow(np.e,(x*np.sin(x)))\n",
    "plt.plot(x,y)\n",
    "y"
   ]
  },
  {
   "cell_type": "code",
   "execution_count": 35,
   "metadata": {},
   "outputs": [
    {
     "data": {
      "text/plain": [
       "2.718281828459045"
      ]
     },
     "execution_count": 35,
     "metadata": {},
     "output_type": "execute_result"
    }
   ],
   "source": [
    "np.e"
   ]
  },
  {
   "cell_type": "markdown",
   "metadata": {},
   "source": [
    "## Data Analysis\n",
    "\n",
    "Функция `fake_data_generator` выдает данные какого-то эксперимента. Но это не беда, ведь мы всегда можем обработать данные!\n",
    "\n",
    "Узнайте свой порядковый номер в группе и с помощью функции `get_numbers` получите свои входные значения для функции `fake_data_generator`.\n",
    "\n",
    "Полученные  экспериентальные данные используйте для нанесения на график. Затем попрбуйте *прикинуть* параметры прямой, которая могла бы проходить через экспериентальные точки.\n",
    "\n",
    "### План действий\n",
    "\n",
    "1. Сгенерируйте свои числа для задачи\n",
    "2. Нанесите точки на график. В качестве ошибок по `x` используйте половину расстояния между соседними точками. Для ошибок по `y` используйте корень квадратный от модуля значения. Добавьте легенду \"DATA\"\n",
    "3. Нанесите сетку на график\n",
    "4. Выделите штрихованную прямую синего цвета, которая выделяет средний уровень точек по оси абсцисс. Добавьте легенду со значением среднего \"mean x = \"\n",
    "5. Выделите штрих-пунктирную прямую красного цвета, которая выделяет средний уровень точек по оси ординат. Добавьте легенду со значением среднего \"mean y = \"\n",
    "6. Нарисуйте черным цветом прямую, которая примерно описывает данные на графике. Добавьте легенду \"fit\"\n",
    "7. Точки пересечения подгоночной кривой и средних значений выделить синим цветом\n",
    "8. Добавить описание для оси абсцисс $\\xi, cm\\rightarrow$ `$\\xi, cm$`\n",
    "9. Добавить описание для оси ординат $\\rho, mm^{-3}\\rightarrow$`$\\rho, mm^{-3}$`\n",
    "10. Легенду разместите в правом нижнем углу или же в верхнем правом"
   ]
  },
  {
   "cell_type": "code",
   "execution_count": 45,
   "metadata": {},
   "outputs": [],
   "source": [
    "import matplotlib\n",
    "from matplotlib import pyplot as plt\n",
    "\n",
    "matplotlib.rcParams.update(matplotlib.rcParamsDefault)\n",
    "\n",
    "\n",
    "def get_numbers(student):\n",
    "    return student, (student + 4) % 5 + 3, student % 2 * 10 + 12, (student % 5 * 3 + 7) * 3 \n",
    "\n",
    "def fake_data_generator(seed, vmin=0, vmax=10, size=100):\n",
    "    import numpy as np\n",
    "    np.random.seed(seed)\n",
    "    data = np.random.randint(vmin, vmax, size=20)\n",
    "    mean = data.mean()\n",
    "    std = data.std()\n",
    "    noise = np.random.normal(loc=mean, scale=std**.5, size=size)\n",
    "    fake_x = np.array([-5 + i * 20 / size for i in range(size)])\n",
    "    \n",
    "    linear = lambda x, k=(.5 - np.random.rand()) * 15, b=np.random.rand()*10: k * x + b\n",
    "    linear_data = linear(fake_x)\n",
    "    fake_y = linear_data + noise\n",
    "    return fake_x, fake_y"
   ]
  },
  {
   "cell_type": "code",
   "execution_count": 53,
   "metadata": {},
   "outputs": [
    {
     "data": {
      "text/plain": [
       "(array([-5.        , -4.04761905, -3.0952381 , -2.14285714, -1.19047619,\n",
       "        -0.23809524,  0.71428571,  1.66666667,  2.61904762,  3.57142857,\n",
       "         4.52380952,  5.47619048,  6.42857143,  7.38095238,  8.33333333,\n",
       "         9.28571429, 10.23809524, 11.19047619, 12.14285714, 13.0952381 ,\n",
       "        14.04761905]),\n",
       " array([13.73373147, 19.60443278, 16.18236881, 15.48026535, 22.36094785,\n",
       "        18.6942045 , 27.22792243, 27.87581504, 24.18267476, 25.45329073,\n",
       "        27.27108729, 27.95387118, 31.47467651, 32.88899241, 36.23197178,\n",
       "        34.17429477, 42.56314996, 39.6876964 , 41.30187689, 42.61558683,\n",
       "        44.29995265]))"
      ]
     },
     "execution_count": 53,
     "metadata": {},
     "output_type": "execute_result"
    }
   ],
   "source": [
    "fake_data_generator(* get_numbers(5))"
   ]
  },
  {
   "cell_type": "code",
   "execution_count": 73,
   "metadata": {},
   "outputs": [
    {
     "data": {
      "image/png": "[encoded data removed]",
      "text/plain": [
       "<Figure size 640x480 with 1 Axes>"
      ]
     },
     "metadata": {},
     "output_type": "display_data"
    },
    {
     "data": {
      "text/plain": [
       "(1.5680790788366528, 22.013871329492048)"
      ]
     },
     "execution_count": 73,
     "metadata": {},
     "output_type": "execute_result"
    }
   ],
   "source": [
    "from cProfile import label\n",
    "from numpy import linspace\n",
    "\n",
    "\n",
    "x,y=fake_data_generator(5,7,22,21)\n",
    "plt.plot(x,y,label='Data')\n",
    "plt.grid(True)\n",
    "plt.errorbar(x,y, yerr=0.1*np.abs(y)**0.5, xerr=0.1, fmt='.', label='Ошибка')\n",
    "plt.plot([x.mean(),x.mean()],[0,45],\"b--\", label=\"mean x\")\n",
    "plt.plot([-6,15],[y.mean(),y.mean()],\"r-.\", label=\"mean y\")\n",
    "A = np.vstack([x, np.ones(len(x))]).T\n",
    "m, c = np.linalg.lstsq(A, y, rcond=None)[0]\n",
    "plt.plot(x,m*x+c,\"k\",label=\"fit\")\n",
    "plt.ylabel(r\"$\\rho, mm^{-3}$`\")\n",
    "plt.xlabel(r\"$\\xi, cm$\")\n",
    "plt.legend()\n",
    "plt.show()\n",
    "m,c"
   ]
  },
  {
   "cell_type": "code",
   "execution_count": null,
   "metadata": {},
   "outputs": [],
   "source": []
  }
 ],
 "metadata": {
  "kernelspec": {
   "display_name": "Python 3.7.8 64-bit",
   "language": "python",
   "name": "python3"
  },
  "language_info": {
   "codemirror_mode": {
    "name": "ipython",
    "version": 3
   },
   "file_extension": ".py",
   "mimetype": "text/x-python",
   "name": "python",
   "nbconvert_exporter": "python",
   "pygments_lexer": "ipython3",
   "version": "3.7.8"
  },
  "vscode": {
   "interpreter": {
    "hash": "0a54084e6b208ee8d1ce3989ffc20924477a5f55f5a43e22e699a6741623861e"
   }
  }
 },
 "nbformat": 4,
 "nbformat_minor": 2
}
